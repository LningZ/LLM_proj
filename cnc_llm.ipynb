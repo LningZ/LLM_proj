{
 "cells": [
  {
   "cell_type": "code",
   "execution_count": 1,
   "metadata": {},
   "outputs": [],
   "source": [
    "!pip install --quiet --upgrade openai tenacity pandas ipywidgets\n"
   ]
  },
  {
   "cell_type": "code",
   "execution_count": 2,
   "metadata": {},
   "outputs": [],
   "source": [
    "import os, time, json, math\n",
    "import pandas as pd\n",
    "import ipywidgets as widgets\n",
    "from IPython.display import display, Markdown\n",
    "\n",
    "from llm_utils import chat_completion, TOKENS_USED,client\n",
    "from typing import List, Dict\n",
    "\n"
   ]
  },
  {
   "cell_type": "code",
   "execution_count": 3,
   "metadata": {},
   "outputs": [],
   "source": [
    "# === 2. 定义 UI 元素 ===\n",
    "desc_input = widgets.Textarea(\n",
    "    value=\"An aluminum gear with 20 teeth and a central bore.\",\n",
    "    placeholder=\"Describe the part here...\",\n",
    "    description=\"Part:\",\n",
    "    layout=widgets.Layout(width=\"100%\", height=\"100px\")\n",
    ")\n",
    "\n",
    "material_selector = widgets.Dropdown(\n",
    "    options=['aluminum', 'steel'],\n",
    "    value='aluminum',\n",
    "    description='Material:',\n",
    "    layout=widgets.Layout(width='30%')\n",
    ")\n",
    "\n",
    "\n",
    "generate_button = widgets.Button(\n",
    "    description=\" Generate CNC Plan\",\n",
    "    button_style=\"success\",\n",
    "    layout=widgets.Layout(width=\"30%\", margin=\"10px 0\")\n",
    ")\n",
    "\n",
    "output_area = widgets.Output()\n"
   ]
  },
  {
   "cell_type": "code",
   "execution_count": 4,
   "metadata": {},
   "outputs": [],
   "source": [
    "def get_outline(part: str, material: str) -> List[Dict[str, str]]:\n",
    "    \"\"\"\n",
    "    调用 LLM 生成加工步骤大纲，返回格式为 List[Dict]，每个元素格式为 {\"step\": \"xxx\"}。\n",
    "    \"\"\"\n",
    "    prompt = (\n",
    "        f\"You are a manufacturing assistant. Given the part and material, list the high-level process steps.\\n\"\n",
    "        f\"The part is: {part}\\n\"\n",
    "        f\"The material is: {material}\\n\"\n",
    "        \"Feed must be between 100 and 1500 mm/min. \"\n",
    "        \"Return only a JSON array of steps, where each step is an object with a 'step' field.\\n\"\n",
    "        \"Example: [{\\\"step\\\": \\\"Material Selection\\\"}, {\\\"step\\\": \\\"Rough Machining\\\"}]\\n\"\n",
    "        \"Do not explain. Do not include markdown. No commentary.\"\n",
    "    )\n",
    "\n",
    "    try:\n",
    "        response = chat_completion(prompt,verbose=False)\n",
    "        #print(\" get_outline 原始返回:\\n\", response)  # 打印原始输出用于调试\n",
    "        return json.loads(response)\n",
    "    except Exception as e:\n",
    "        #print(\" get_outline 调用失败：\", str(e))\n",
    "        return []\n",
    "\n",
    "\n",
    "\n",
    "def get_detail(outline: str | list, part: str, material: str) -> str:\n",
    "    \"\"\"\n",
    "    构造详细 prompt，调用 LLM 生成 JSON 格式的加工步骤。\n",
    "    \"\"\"\n",
    "    # 如果 outline 是 list[dict]，转成清晰的字符串表示\n",
    "    if isinstance(outline, list):\n",
    "        outline_text = \"\\n\".join(f\"- {step['step']}\" for step in outline if 'step' in step)\n",
    "    else:\n",
    "        outline_text = outline  # 如果已经是字符串就直接使用\n",
    "\n",
    "    prompt = (\n",
    "    f\"The part is: {part}\\n\"\n",
    "    f\"Material: {material}\\n\"\n",
    "    f\"Here is the outline of steps:\\n\"\n",
    "    f\"{outline_text}\\n\"\n",
    "    \"For non-machining steps (e.g. Material Selection, Quality Inspection), \"\n",
    "    \"set rpm and feed to 0.\\n\"\n",
    "    \"Only return a valid JSON array. No explanations. No markdown.\"\n",
    "    )\n",
    "\n",
    "    return chat_completion(prompt)"
   ]
  },
  {
   "cell_type": "code",
   "execution_count": 5,
   "metadata": {},
   "outputs": [],
   "source": [
    "def parse_llm_output(raw_json):\n",
    "    data = json.loads(raw_json)\n",
    "    df = pd.DataFrame(data)\n",
    "    df.rename(columns={\n",
    "        \"rpm\": \"Spindle Speed (RPM)\",\n",
    "        \"feed\": \"Feed Rate (mm/min)\"\n",
    "    }, inplace=True)\n",
    "    return df\n"
   ]
  },
  {
   "cell_type": "code",
   "execution_count": 6,
   "metadata": {},
   "outputs": [],
   "source": [
    "MATERIAL_LIMITS = {\n",
    "    \"aluminum\": {\"rpm\": (3000, 12000), \"feed\": (800, 1500)},\n",
    "    \"steel\":    {\"rpm\": (500, 1500),   \"feed\": (100, 300)},\n",
    "    \"brass\":    {\"rpm\": (1500, 6000),  \"feed\": (400, 800)}\n",
    "}\n",
    "\n",
    "def validate_plan(df, material):\n",
    "    rpm_min, rpm_max = MATERIAL_LIMITS[material][\"rpm\"]\n",
    "    feed_min, feed_max = MATERIAL_LIMITS[material][\"feed\"]\n",
    "    df[\"RPM Valid\"]  = df[\"Spindle Speed (RPM)\"].between(rpm_min*0.9, rpm_max*1.1)\n",
    "    df[\"Feed Valid\"] = df[\"Feed Rate (mm/min)\"].between(feed_min*0.9, feed_max*1.1)\n",
    "    return df\n"
   ]
  },
  {
   "cell_type": "code",
   "execution_count": 7,
   "metadata": {},
   "outputs": [],
   "source": [
    "def display_plan_table(df):\n",
    "    def highlight_invalid(v):\n",
    "        return \"background-color:#FFD2D2\" if v is False else \"\"\n",
    "    styled = df.style.map(highlight_invalid, subset=[\"RPM Valid\",\"Feed Valid\"])\n",
    "    display(Markdown(\"### CNC Process Plan\"))\n",
    "    display(styled)\n"
   ]
  },
  {
   "cell_type": "code",
   "execution_count": 8,
   "metadata": {},
   "outputs": [],
   "source": [
    "# === 工艺总结 ===\n",
    "def reflect_summary(raw_json: str, validated_df: pd.DataFrame):\n",
    "    num_steps = len(validated_df)\n",
    "    num_invalid_rpm   = (~validated_df[\"RPM Valid\"]).sum()\n",
    "    num_invalid_feed  = (~validated_df[\"Feed Valid\"]).sum()\n",
    "\n",
    "    comment = (\n",
    "        \"### Reflection Summary\\n\"\n",
    "        f\"- **Total Steps Generated**: {num_steps}\\n\"\n",
    "        f\"- **Invalid Spindle Speeds**: {num_invalid_rpm} step(s)\\n\"\n",
    "        f\"- **Invalid Feed Rates**: {num_invalid_feed} step(s)\\n\"\n",
    "    )\n",
    "\n",
    "    if num_invalid_rpm or num_invalid_feed:\n",
    "        comment += \"- **🔧 Human Oversight Needed**:\\n\"\n",
    "        if num_invalid_rpm:\n",
    "            comment += \"  - Some spindle speeds out of range.\\n\"\n",
    "        if num_invalid_feed:\n",
    "            comment += \"  - Some feed rates out of range.\\n\"\n",
    "    else:\n",
    "        comment += \"- All parameters are within expected machining constraints.\\n\"\n",
    "\n",
    "    # 统计 token\n",
    "    from llm_utils import TOKENS_USED\n",
    "    comment += f\"- **Tokens used so far**: {TOKENS_USED}\\n\"\n",
    "\n",
    "    display(Markdown(comment))\n"
   ]
  },
  {
   "cell_type": "code",
   "execution_count": 9,
   "metadata": {},
   "outputs": [],
   "source": [
    "# === 4. 按钮点击逻辑 ===\n",
    "\n",
    "def on_generate_clicked(b):\n",
    "    with output_area:\n",
    "        output_area.clear_output()\n",
    "\n",
    "        part = desc_input.value.strip()\n",
    "        material = material_selector.value\n",
    "\n",
    "        if not part:\n",
    "            print(\"请描述你的零件。\")\n",
    "            return\n",
    "\n",
    "        # 第一步：生成 outline 列表 [{\"step\": \"...\"}]\n",
    "        outline = get_outline(part, material)\n",
    "        if not outline:\n",
    "            print(\"获取大纲失败，请检查网络或 API Key。\")\n",
    "            return\n",
    "\n",
    "        # 第二步：使用 outline 获取详细工艺计划（JSON 字符串）\n",
    "        raw_json = get_detail(outline, part, material)\n",
    "\n",
    "        # 第三步：解析 JSON 输出为 DataFrame\n",
    "        \n",
    "       # ① 解析 → 得到完整工艺\n",
    "        df_full = parse_llm_output(raw_json).reset_index(drop=True)\n",
    "        df_full_valid = validate_plan(df_full, material=material)\n",
    "\n",
    "        # ② 先展示【完整流程】\n",
    "        display(Markdown(\"### Full Process Plan (incl. non-machining)\"))\n",
    "        display_plan_table(df_full_valid)\n",
    "\n",
    "        # ③ 从完整表中过滤出“真正切削步骤”\n",
    "        df_cut = df_full[\n",
    "            df_full[\"Spindle Speed (RPM)\"].gt(0) &\n",
    "            df_full[\"Feed Rate (mm/min)\"].gt(0)\n",
    "        ].reset_index(drop=True)\n",
    "        df_cut_valid = validate_plan(df_cut, material=material)\n",
    "\n",
    "        # ④ 再展示【Machining-only Plan】\n",
    "        display(Markdown(\"###  Machining-only Plan\"))\n",
    "        display_plan_table(df_cut_valid)\n",
    "\n",
    "        # ⑤ 反思摘要基于完整流程（也可换成 df_cut_valid）\n",
    "        reflect_summary(raw_json, df_full_valid)\n"
   ]
  },
  {
   "cell_type": "code",
   "execution_count": 10,
   "metadata": {},
   "outputs": [
    {
     "data": {
      "text/markdown": [
       "## CNC Process Planner"
      ],
      "text/plain": [
       "<IPython.core.display.Markdown object>"
      ]
     },
     "metadata": {},
     "output_type": "display_data"
    },
    {
     "data": {
      "application/vnd.jupyter.widget-view+json": {
       "model_id": "b72912469cb34d0ca1210eabf3a283fc",
       "version_major": 2,
       "version_minor": 0
      },
      "text/plain": [
       "Textarea(value='An aluminum gear with 20 teeth and a central bore.', description='Part:', layout=Layout(height…"
      ]
     },
     "metadata": {},
     "output_type": "display_data"
    },
    {
     "data": {
      "application/vnd.jupyter.widget-view+json": {
       "model_id": "d8c0d9d6a5d34ce4bda819aac2f102d0",
       "version_major": 2,
       "version_minor": 0
      },
      "text/plain": [
       "Dropdown(description='Material:', layout=Layout(width='30%'), options=('aluminum', 'steel'), value='aluminum')"
      ]
     },
     "metadata": {},
     "output_type": "display_data"
    },
    {
     "data": {
      "application/vnd.jupyter.widget-view+json": {
       "model_id": "ca09dae4fb4a4f398975b46f37366c87",
       "version_major": 2,
       "version_minor": 0
      },
      "text/plain": [
       "Button(button_style='success', description=' Generate CNC Plan', layout=Layout(margin='10px 0', width='30%'), …"
      ]
     },
     "metadata": {},
     "output_type": "display_data"
    },
    {
     "data": {
      "application/vnd.jupyter.widget-view+json": {
       "model_id": "791e03f3294e48dd920aac6490bb5812",
       "version_major": 2,
       "version_minor": 0
      },
      "text/plain": [
       "Output()"
      ]
     },
     "metadata": {},
     "output_type": "display_data"
    }
   ],
   "source": [
    "# === 5. 按钮事件绑定 ===\n",
    "generate_button.on_click(on_generate_clicked)\n",
    "\n",
    "# === 6. 显示UI（必须放最后） ===\n",
    "output_area = widgets.Output()\n",
    "display(\n",
    "    Markdown(\"## CNC Process Planner\"),\n",
    "    desc_input,\n",
    "    material_selector,\n",
    "    generate_button,\n",
    "    output_area\n",
    ")"
   ]
  }
 ],
 "metadata": {
  "kernelspec": {
   "display_name": "Python 3",
   "language": "python",
   "name": "python3"
  },
  "language_info": {
   "codemirror_mode": {
    "name": "ipython",
    "version": 3
   },
   "file_extension": ".py",
   "mimetype": "text/x-python",
   "name": "python",
   "nbconvert_exporter": "python",
   "pygments_lexer": "ipython3",
   "version": "3.12.0"
  }
 },
 "nbformat": 4,
 "nbformat_minor": 2
}
