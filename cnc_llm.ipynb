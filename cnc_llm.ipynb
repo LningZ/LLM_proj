{
 "cells": [
  {
   "cell_type": "code",
   "execution_count": 11,
   "metadata": {},
   "outputs": [],
   "source": [
    "!pip install --quiet --upgrade openai tenacity pandas ipywidgets\n"
   ]
  },
  {
   "cell_type": "code",
   "execution_count": 12,
   "metadata": {},
   "outputs": [],
   "source": [
    "import os, time, json, math\n",
    "import pandas as pd\n",
    "import ipywidgets as widgets\n",
    "from IPython.display import display, Markdown\n",
    "\n",
    "from llm_utils import chat_completion, TOKENS_USED,client\n",
    "from typing import List, Dict\n",
    "\n"
   ]
  },
  {
   "cell_type": "code",
   "execution_count": 13,
   "metadata": {},
   "outputs": [],
   "source": [
    "# === 2. 定义 UI 元素 ===\n",
    "desc_input = widgets.Textarea(\n",
    "    value=\"An aluminum gear with 20 teeth and a central bore.\",\n",
    "    placeholder=\"Describe the part here...\",\n",
    "    description=\"Part:\",\n",
    "    layout=widgets.Layout(width=\"100%\", height=\"100px\")\n",
    ")\n",
    "\n",
    "material_selector = widgets.Dropdown(\n",
    "    options=['aluminum', 'steel', 'brass', 'titanium', 'plastic'],\n",
    "    value='aluminum',\n",
    "    description='Material:',\n",
    "    layout=widgets.Layout(width='30%')\n",
    ")\n",
    "\n",
    "\n",
    "generate_button = widgets.Button(\n",
    "    description=\" Generate CNC Plan\",\n",
    "    button_style=\"success\",\n",
    "    layout=widgets.Layout(width=\"30%\", margin=\"10px 0\")\n",
    ")\n",
    "\n",
    "output_area = widgets.Output()\n"
   ]
  },
  {
   "cell_type": "code",
   "execution_count": 14,
   "metadata": {},
   "outputs": [],
   "source": [
    "# === Global machining limits ======================================\n",
    "MATERIAL_LIMITS = {\n",
    "    \"aluminum\": {\"rpm\": (3000, 12000), \"feed\": (800, 1500)},\n",
    "    \"steel\":    {\"rpm\": (500, 1500),   \"feed\": (100, 300)},\n",
    "    \"brass\":    {\"rpm\": (1500, 6000),  \"feed\": (400, 800)},\n",
    "    \"titanium\": {\"rpm\": (100, 500),    \"feed\": (50, 200)},\n",
    "    \"plastic\":  {\"rpm\": (2000, 8000),  \"feed\": (500, 1500)},\n",
    "}\n",
    "\n",
    "def validate_plan(df, material: str):\n",
    "    \"\"\"\n",
    "    Add 'RPM Valid' and 'Feed Valid' columns based on MATERIAL_LIMITS.\n",
    "    \"\"\"\n",
    "    limits = MATERIAL_LIMITS.get(material)\n",
    "    if limits is None:\n",
    "        # Unknown material -> mark everything invalid but keep running\n",
    "        df[\"RPM Valid\"]  = False\n",
    "        df[\"Feed Valid\"] = False\n",
    "        return df\n",
    "\n",
    "    rpm_min, rpm_max   = limits[\"rpm\"]\n",
    "    feed_min, feed_max = limits[\"feed\"]\n",
    "\n",
    "    df[\"RPM Valid\"]  = df[\"Spindle Speed (RPM)\"].between(rpm_min, rpm_max)\n",
    "    df[\"Feed Valid\"] = df[\"Feed Rate (mm/min)\"].between(feed_min, feed_max)\n",
    "    return df\n",
    "\n"
   ]
  },
  {
   "cell_type": "code",
   "execution_count": 15,
   "metadata": {},
   "outputs": [],
   "source": [
    "def get_outline(part: str, material: str) -> List[Dict[str, str]]:\n",
    "    \"\"\"\n",
    "    Ask the LLM for a high-level process outline and\n",
    "    return a list of {\"step\": \"...\"} dictionaries.\n",
    "    \"\"\"\n",
    "    system_msg = {\n",
    "        \"role\": \"system\",\n",
    "        \"content\": (\n",
    "            \"You are a CNC process planner. \"\n",
    "            \"Return ONLY a JSON array. Each item must have the key 'step'.\"\n",
    "        )\n",
    "    }\n",
    "    user_msg = {\n",
    "        \"role\": \"user\",\n",
    "        \"content\": (\n",
    "            f\"The part is: {part}\\n\"\n",
    "            f\"The material is: {material}\\n\"\n",
    "            \"List the high-level manufacturing steps needed to machine this part.\"\n",
    "        )\n",
    "    }\n",
    "\n",
    "    try:\n",
    "        response = chat_completion(\n",
    "            messages=[system_msg, user_msg],\n",
    "            verbose=False\n",
    "        )\n",
    "        return json.loads(response)\n",
    "    except Exception as e:\n",
    "        print(\" get_outline failed:\", e)\n",
    "        return []\n",
    "    \n",
    "    \n",
    "def get_detail(outline: List[Dict[str, str]] | str,\n",
    "               part: str,\n",
    "               material: str) -> str:\n",
    "    \"\"\"\n",
    "    Enrich each step with tool, operation, rpm and feed.\n",
    "    Returns raw JSON string.\n",
    "    \"\"\"\n",
    "\n",
    "    # --- 1. Convert outline list to bullet list text -----------------\n",
    "    outline_text = (\n",
    "        \"\\n\".join(f\"- {s['step']}\" for s in outline if 'step' in s)\n",
    "        if isinstance(outline, list) else outline\n",
    "    )\n",
    "\n",
    "    # --- 2. Fetch material-specific limits --------------------------\n",
    "    limits = MATERIAL_LIMITS.get(material)\n",
    "    if limits is None:\n",
    "        # fallback to a safe generic range\n",
    "        limits = {\"rpm\": (500, 5000), \"feed\": (100, 1000)}\n",
    "\n",
    "    rpm_min, rpm_max   = limits[\"rpm\"]\n",
    "    feed_min, feed_max = limits[\"feed\"]\n",
    "\n",
    "    # create constraint sentence, e.g.:\n",
    "    # \"For titanium, spindle speed must be 100-500 rpm and feed 50-200 mm/min.\"\n",
    "    material_constraints = (\n",
    "        f\"For {material}, spindle speed must be {rpm_min}-{rpm_max} rpm \"\n",
    "        f\"and feed rate {feed_min}-{feed_max} mm/min.\"\n",
    "    )\n",
    "\n",
    "    # --- 3. Build messages list for chat_completion -----------------\n",
    "    system_msg = {\n",
    "        \"role\": \"system\",\n",
    "        \"content\": \"You are a CNC process planner.\"\n",
    "    }\n",
    "\n",
    "    user_msg = {\n",
    "        \"role\": \"user\",\n",
    "        \"content\": (\n",
    "            f\"The part is: {part}\\n\"\n",
    "            f\"The material is: {material}\\n\"\n",
    "            f\"Here is the outline of steps:\\n{outline_text}\\n\\n\"\n",
    "            \"For EACH step output an object with: step, tool, operation, rpm, feed.\\n\"\n",
    "            f\"{material_constraints}\\n\"\n",
    "            \"For non-machining steps (e.g. selection, inspection) set rpm=0 and feed=0.\\n\\n\"\n",
    "            \"Return ONLY a JSON array. No explanations. No markdown.\"\n",
    "        )\n",
    "    }\n",
    "\n",
    "    # --- 4. Call the LLM -------------------------------------------\n",
    "    return chat_completion(\n",
    "        messages=[system_msg, user_msg],\n",
    "        verbose=False\n",
    "    )\n"
   ]
  },
  {
   "cell_type": "code",
   "execution_count": 16,
   "metadata": {},
   "outputs": [],
   "source": [
    "def parse_llm_output(raw_json):\n",
    "    data = json.loads(raw_json)\n",
    "    df = pd.DataFrame(data)\n",
    "    df.rename(columns={\n",
    "        \"rpm\": \"Spindle Speed (RPM)\",\n",
    "        \"feed\": \"Feed Rate (mm/min)\"\n",
    "    }, inplace=True)\n",
    "    return df\n"
   ]
  },
  {
   "cell_type": "code",
   "execution_count": 17,
   "metadata": {},
   "outputs": [],
   "source": [
    "def display_plan_table(df):\n",
    "    def highlight_invalid(v):\n",
    "        return \"background-color:#FFD2D2\" if v is False else \"\"\n",
    "    styled = df.style.map(highlight_invalid, subset=[\"RPM Valid\",\"Feed Valid\"])\n",
    "    display(Markdown(\"### CNC Process Plan\"))\n",
    "    display(styled)\n"
   ]
  },
  {
   "cell_type": "code",
   "execution_count": 18,
   "metadata": {},
   "outputs": [],
   "source": [
    "# === 工艺总结 ===\n",
    "def reflect_summary(raw_json: str, validated_df: pd.DataFrame):\n",
    "    num_steps = len(validated_df)\n",
    "    num_invalid_rpm   = (~validated_df[\"RPM Valid\"]).sum()\n",
    "    num_invalid_feed  = (~validated_df[\"Feed Valid\"]).sum()\n",
    "\n",
    "    comment = (\n",
    "        \"### Reflection Summary\\n\"\n",
    "        f\"- **Total Steps Generated**: {num_steps}\\n\"\n",
    "        f\"- **Invalid Spindle Speeds**: {num_invalid_rpm} step(s)\\n\"\n",
    "        f\"- **Invalid Feed Rates**: {num_invalid_feed} step(s)\\n\"\n",
    "    )\n",
    "\n",
    "    if num_invalid_rpm or num_invalid_feed:\n",
    "        comment += \"- ** Human Oversight Needed**:\\n\"\n",
    "        if num_invalid_rpm:\n",
    "            comment += \"  - Some spindle speeds out of range.\\n\"\n",
    "        if num_invalid_feed:\n",
    "            comment += \"  - Some feed rates out of range.\\n\"\n",
    "    else:\n",
    "        comment += \"- All parameters are within expected machining constraints.\\n\"\n",
    "\n",
    "    # 统计 token\n",
    "    from llm_utils import TOKENS_USED\n",
    "    comment += f\"- **Tokens used so far**: {TOKENS_USED}\\n\"\n",
    "\n",
    "    display(Markdown(comment))\n"
   ]
  },
  {
   "cell_type": "code",
   "execution_count": 19,
   "metadata": {},
   "outputs": [],
   "source": [
    "# === 4. 按钮点击逻辑 ===\n",
    "def on_generate_clicked(b):\n",
    "    with output_area:\n",
    "        output_area.clear_output()\n",
    "\n",
    "        part = desc_input.value.strip()\n",
    "        material = material_selector.value\n",
    "\n",
    "        if not part:\n",
    "            print(\"Please enter the part description.\")\n",
    "            return\n",
    "\n",
    "        # --- ① 先取高阶大纲 ---------------------------------\n",
    "        outline = get_outline(part, material)\n",
    "        if not outline:\n",
    "            print(\"Failed to retrieve outline. Please check your network connection or API key.\")\n",
    "            return\n",
    "\n",
    "        # --- ② 再根据大纲生成带参数的完整 JSON ---------------\n",
    "        raw_json = get_detail(outline, part, material)\n",
    "\n",
    "        # --- ③ 解析 LLM JSON → DataFrame -------------------\n",
    "        df_full = parse_llm_output(raw_json).reset_index(drop=True)\n",
    "        if df_full.empty:\n",
    "            print(\"JSON parsing failed, raw output:\\n\", raw_json)\n",
    "            return\n",
    "\n",
    "        # --- ④ 全流程校验并展示 ------------------------------\n",
    "        df_full_valid = validate_plan(df_full, material)\n",
    "        display(Markdown(\"### Full Process Plan (incl. non-machining)\"))\n",
    "        display_plan_table(df_full_valid)\n",
    "\n",
    "        # --- ⑤ 过滤仅含切削参数的步骤 -------------------------\n",
    "        df_cut = df_full[\n",
    "            df_full[\"Spindle Speed (RPM)\"].gt(0) &\n",
    "            df_full[\"Feed Rate (mm/min)\"].gt(0)\n",
    "        ].reset_index(drop=True)\n",
    "\n",
    "        df_cut_valid = validate_plan(df_cut, material)\n",
    "        display(Markdown(\"### Machining-only Plan\"))\n",
    "        display_plan_table(df_cut_valid)\n",
    "\n",
    "        # --- ⑥ 反思摘要（基于完整流程） -----------------------\n",
    "        reflect_summary(raw_json, df_full_valid)\n",
    "        \n",
    "        "
   ]
  },
  {
   "cell_type": "code",
   "execution_count": 20,
   "metadata": {},
   "outputs": [
    {
     "data": {
      "text/markdown": [
       "## CNC Process Planner"
      ],
      "text/plain": [
       "<IPython.core.display.Markdown object>"
      ]
     },
     "metadata": {},
     "output_type": "display_data"
    },
    {
     "data": {
      "application/vnd.jupyter.widget-view+json": {
       "model_id": "90e5ec944e22446e93b0479d84c0e969",
       "version_major": 2,
       "version_minor": 0
      },
      "text/plain": [
       "Textarea(value='An aluminum gear with 20 teeth and a central bore.', description='Part:', layout=Layout(height…"
      ]
     },
     "metadata": {},
     "output_type": "display_data"
    },
    {
     "data": {
      "application/vnd.jupyter.widget-view+json": {
       "model_id": "c94ea03f649a45f9baaf5b5fb2f6208f",
       "version_major": 2,
       "version_minor": 0
      },
      "text/plain": [
       "Dropdown(description='Material:', layout=Layout(width='30%'), options=('aluminum', 'steel', 'brass', 'titanium…"
      ]
     },
     "metadata": {},
     "output_type": "display_data"
    },
    {
     "data": {
      "application/vnd.jupyter.widget-view+json": {
       "model_id": "90e96263403c4189b8d901d803ee44ff",
       "version_major": 2,
       "version_minor": 0
      },
      "text/plain": [
       "Button(button_style='success', description=' Generate CNC Plan', layout=Layout(margin='10px 0', width='30%'), …"
      ]
     },
     "metadata": {},
     "output_type": "display_data"
    },
    {
     "data": {
      "application/vnd.jupyter.widget-view+json": {
       "model_id": "26e78113b3f24574b13938b9f1ea495a",
       "version_major": 2,
       "version_minor": 0
      },
      "text/plain": [
       "Output()"
      ]
     },
     "metadata": {},
     "output_type": "display_data"
    }
   ],
   "source": [
    "# === 5. 按钮事件绑定 ===\n",
    "generate_button.on_click(on_generate_clicked)\n",
    "\n",
    "# === 6. 显示UI（必须放最后） ===\n",
    "output_area = widgets.Output()\n",
    "display(\n",
    "    Markdown(\"## CNC Process Planner\"),\n",
    "    desc_input,\n",
    "    material_selector,\n",
    "    generate_button,\n",
    "    output_area\n",
    ")   \n"
   ]
  }
 ],
 "metadata": {
  "kernelspec": {
   "display_name": "Python 3",
   "language": "python",
   "name": "python3"
  },
  "language_info": {
   "codemirror_mode": {
    "name": "ipython",
    "version": 3
   },
   "file_extension": ".py",
   "mimetype": "text/x-python",
   "name": "python",
   "nbconvert_exporter": "python",
   "pygments_lexer": "ipython3",
   "version": "3.12.0"
  }
 },
 "nbformat": 4,
 "nbformat_minor": 2
}
