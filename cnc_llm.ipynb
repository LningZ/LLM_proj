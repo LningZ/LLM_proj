{
 "cells": [
  {
   "cell_type": "code",
   "execution_count": 1,
   "metadata": {},
   "outputs": [
    {
     "name": "stdout",
     "output_type": "stream",
     "text": [
      "Requirement already satisfied: tiktoken in /Library/Frameworks/Python.framework/Versions/3.12/lib/python3.12/site-packages (0.9.0)\n",
      "Requirement already satisfied: regex>=2022.1.18 in /Library/Frameworks/Python.framework/Versions/3.12/lib/python3.12/site-packages (from tiktoken) (2024.11.6)\n",
      "Requirement already satisfied: requests>=2.26.0 in /Library/Frameworks/Python.framework/Versions/3.12/lib/python3.12/site-packages (from tiktoken) (2.32.3)\n",
      "Requirement already satisfied: charset-normalizer<4,>=2 in /Library/Frameworks/Python.framework/Versions/3.12/lib/python3.12/site-packages (from requests>=2.26.0->tiktoken) (3.3.2)\n",
      "Requirement already satisfied: idna<4,>=2.5 in /Library/Frameworks/Python.framework/Versions/3.12/lib/python3.12/site-packages (from requests>=2.26.0->tiktoken) (3.8)\n",
      "Requirement already satisfied: urllib3<3,>=1.21.1 in /Library/Frameworks/Python.framework/Versions/3.12/lib/python3.12/site-packages (from requests>=2.26.0->tiktoken) (2.2.3)\n",
      "Requirement already satisfied: certifi>=2017.4.17 in /Library/Frameworks/Python.framework/Versions/3.12/lib/python3.12/site-packages (from requests>=2.26.0->tiktoken) (2025.1.31)\n",
      "Requirement already satisfied: sentence_transformers in /Library/Frameworks/Python.framework/Versions/3.12/lib/python3.12/site-packages (5.0.0)\n",
      "Requirement already satisfied: scikit-learn in /Library/Frameworks/Python.framework/Versions/3.12/lib/python3.12/site-packages (1.5.2)\n",
      "Requirement already satisfied: transformers<5.0.0,>=4.41.0 in /Library/Frameworks/Python.framework/Versions/3.12/lib/python3.12/site-packages (from sentence_transformers) (4.53.0)\n",
      "Requirement already satisfied: tqdm in /Library/Frameworks/Python.framework/Versions/3.12/lib/python3.12/site-packages (from sentence_transformers) (4.67.1)\n",
      "Requirement already satisfied: torch>=1.11.0 in /Library/Frameworks/Python.framework/Versions/3.12/lib/python3.12/site-packages (from sentence_transformers) (2.6.0)\n",
      "Requirement already satisfied: scipy in /Users/luningzhu/Library/Python/3.12/lib/python/site-packages (from sentence_transformers) (1.11.3)\n",
      "Requirement already satisfied: huggingface-hub>=0.20.0 in /Library/Frameworks/Python.framework/Versions/3.12/lib/python3.12/site-packages (from sentence_transformers) (0.33.2)\n",
      "Requirement already satisfied: Pillow in /Users/luningzhu/Library/Python/3.12/lib/python/site-packages (from sentence_transformers) (10.1.0)\n",
      "Requirement already satisfied: typing_extensions>=4.5.0 in /Library/Frameworks/Python.framework/Versions/3.12/lib/python3.12/site-packages (from sentence_transformers) (4.12.2)\n",
      "Requirement already satisfied: filelock in /Library/Frameworks/Python.framework/Versions/3.12/lib/python3.12/site-packages (from transformers<5.0.0,>=4.41.0->sentence_transformers) (3.17.0)\n",
      "Requirement already satisfied: numpy>=1.17 in /Users/luningzhu/Library/Python/3.12/lib/python/site-packages (from transformers<5.0.0,>=4.41.0->sentence_transformers) (1.26.1)\n",
      "Requirement already satisfied: packaging>=20.0 in /Users/luningzhu/Library/Python/3.12/lib/python/site-packages (from transformers<5.0.0,>=4.41.0->sentence_transformers) (23.2)\n",
      "Requirement already satisfied: pyyaml>=5.1 in /Library/Frameworks/Python.framework/Versions/3.12/lib/python3.12/site-packages (from transformers<5.0.0,>=4.41.0->sentence_transformers) (6.0.2)\n",
      "Requirement already satisfied: regex!=2019.12.17 in /Library/Frameworks/Python.framework/Versions/3.12/lib/python3.12/site-packages (from transformers<5.0.0,>=4.41.0->sentence_transformers) (2024.11.6)\n",
      "Requirement already satisfied: requests in /Library/Frameworks/Python.framework/Versions/3.12/lib/python3.12/site-packages (from transformers<5.0.0,>=4.41.0->sentence_transformers) (2.32.3)\n",
      "Requirement already satisfied: tokenizers<0.22,>=0.21 in /Library/Frameworks/Python.framework/Versions/3.12/lib/python3.12/site-packages (from transformers<5.0.0,>=4.41.0->sentence_transformers) (0.21.2)\n",
      "Requirement already satisfied: safetensors>=0.4.3 in /Library/Frameworks/Python.framework/Versions/3.12/lib/python3.12/site-packages (from transformers<5.0.0,>=4.41.0->sentence_transformers) (0.5.3)\n",
      "Requirement already satisfied: fsspec>=2023.5.0 in /Library/Frameworks/Python.framework/Versions/3.12/lib/python3.12/site-packages (from huggingface-hub>=0.20.0->sentence_transformers) (2025.2.0)\n",
      "Requirement already satisfied: hf-xet<2.0.0,>=1.1.2 in /Library/Frameworks/Python.framework/Versions/3.12/lib/python3.12/site-packages (from huggingface-hub>=0.20.0->sentence_transformers) (1.1.5)\n",
      "Requirement already satisfied: joblib>=1.2.0 in /Library/Frameworks/Python.framework/Versions/3.12/lib/python3.12/site-packages (from scikit-learn) (1.4.2)\n",
      "Requirement already satisfied: threadpoolctl>=3.1.0 in /Library/Frameworks/Python.framework/Versions/3.12/lib/python3.12/site-packages (from scikit-learn) (3.5.0)\n",
      "Requirement already satisfied: networkx in /Library/Frameworks/Python.framework/Versions/3.12/lib/python3.12/site-packages (from torch>=1.11.0->sentence_transformers) (3.4.2)\n",
      "Requirement already satisfied: jinja2 in /Library/Frameworks/Python.framework/Versions/3.12/lib/python3.12/site-packages (from torch>=1.11.0->sentence_transformers) (3.1.4)\n",
      "Requirement already satisfied: setuptools in /Library/Frameworks/Python.framework/Versions/3.12/lib/python3.12/site-packages (from torch>=1.11.0->sentence_transformers) (74.1.2)\n",
      "Requirement already satisfied: sympy==1.13.1 in /Library/Frameworks/Python.framework/Versions/3.12/lib/python3.12/site-packages (from torch>=1.11.0->sentence_transformers) (1.13.1)\n",
      "Requirement already satisfied: mpmath<1.4,>=1.1.0 in /Library/Frameworks/Python.framework/Versions/3.12/lib/python3.12/site-packages (from sympy==1.13.1->torch>=1.11.0->sentence_transformers) (1.3.0)\n",
      "Requirement already satisfied: MarkupSafe>=2.0 in /Library/Frameworks/Python.framework/Versions/3.12/lib/python3.12/site-packages (from jinja2->torch>=1.11.0->sentence_transformers) (2.1.5)\n",
      "Requirement already satisfied: charset-normalizer<4,>=2 in /Library/Frameworks/Python.framework/Versions/3.12/lib/python3.12/site-packages (from requests->transformers<5.0.0,>=4.41.0->sentence_transformers) (3.3.2)\n",
      "Requirement already satisfied: idna<4,>=2.5 in /Library/Frameworks/Python.framework/Versions/3.12/lib/python3.12/site-packages (from requests->transformers<5.0.0,>=4.41.0->sentence_transformers) (3.8)\n",
      "Requirement already satisfied: urllib3<3,>=1.21.1 in /Library/Frameworks/Python.framework/Versions/3.12/lib/python3.12/site-packages (from requests->transformers<5.0.0,>=4.41.0->sentence_transformers) (2.2.3)\n",
      "Requirement already satisfied: certifi>=2017.4.17 in /Library/Frameworks/Python.framework/Versions/3.12/lib/python3.12/site-packages (from requests->transformers<5.0.0,>=4.41.0->sentence_transformers) (2025.1.31)\n"
     ]
    }
   ],
   "source": [
    "!pip install --quiet --upgrade openai tenacity pandas ipywidgets\n",
    "!pip install tiktoken\n",
    "!pip install sentence_transformers scikit-learn\n",
    "\n"
   ]
  },
  {
   "cell_type": "code",
   "execution_count": 2,
   "metadata": {},
   "outputs": [],
   "source": [
    "import os, time, json, math\n",
    "import pandas as pd\n",
    "import ipywidgets as widgets\n",
    "import llm_utils\n",
    "\n",
    "from IPython.display import display, Markdown,FileLink\n",
    "\n",
    "from llm_utils import chat_completion,OutlineStep, parse_llm_output,DetailStep\n",
    "from typing import List, Dict,Any\n",
    "from validation import MATERIAL_DATA  \n",
    "from validation import validate_plan, add_power_check   \n",
    "df_full_valid: pd.DataFrame | None = None\n",
    "from embed_utils import fetch_examples\n",
    "\n",
    "\n",
    "\n"
   ]
  },
  {
   "cell_type": "code",
   "execution_count": 3,
   "metadata": {},
   "outputs": [],
   "source": [
    "# === 2. 定义 UI 元素 ===\n",
    "desc_input = widgets.Textarea(\n",
    "    value=\"An aluminum gear with 20 teeth and a central bore.\",\n",
    "    placeholder=\"Describe the part here...\",\n",
    "    description=\"Part:\",\n",
    "    layout=widgets.Layout(width=\"100%\", height=\"100px\")\n",
    ")\n",
    "\n",
    "material_selector = widgets.Dropdown(\n",
    "    options=['aluminum', 'steel', 'brass', 'titanium', 'plastic'],\n",
    "    value='aluminum',\n",
    "    description='Material:',\n",
    "    layout=widgets.Layout(width='30%')\n",
    ")\n",
    "\n",
    "\n",
    "generate_button = widgets.Button(\n",
    "    description=\" Generate CNC Plan\",\n",
    "    button_style=\"success\",\n",
    "    layout=widgets.Layout(width=\"30%\", margin=\"10px 0\")\n",
    ")\n",
    "\n",
    "# === Export Button ===\n",
    "export_btn = widgets.Button(\n",
    "    description=\"Export CSV\",\n",
    "    icon=\"download\",\n",
    "    button_style='',                       # neutral gray\n",
    "    layout=widgets.Layout(width='30%', margin='5px 0 15px 0')\n",
    ")\n",
    "\n",
    "def on_export_clicked(b):\n",
    "    global df_full_valid\n",
    "    with output_area:                     # ★ 关键：写进同一输出框\n",
    "        if df_full_valid is None:\n",
    "            print(\"Please generate a plan first.\")\n",
    "            return\n",
    "\n",
    "        fname = f\"plan_{material_selector.value}_{pd.Timestamp.today().date()}.csv\"\n",
    "        df_full_valid.to_csv(fname, index=False)\n",
    "        print(f\"Saved as {fname}\")\n",
    "\n",
    "    \n",
    "        display(FileLink(fname, result_html_prefix=\"Download: \"))\n",
    "\n",
    "export_btn.on_click(on_export_clicked)\n",
    "output_area = widgets.Output()"
   ]
  },
  {
   "cell_type": "code",
   "execution_count": 4,
   "metadata": {},
   "outputs": [],
   "source": [
    "def get_outline(part: str, material: str, max_retries: int = 3) -> List[Dict[str, str]]:\n",
    "    \"\"\"\n",
    "    Ask the LLM for a high-level process outline and\n",
    "    return a list of {\"step\": \"...\", \"description\": \"...\"} dictionaries.\n",
    "    \"\"\"\n",
    "    system_msg = {\n",
    "        \"role\": \"system\",\n",
    "        \"content\": (\n",
    "            \"You are a CNC process planner. \"\n",
    "            \"Return ONLY a JSON array.\"\n",
    "            \"Each item must have keys 'step' and 'description'.\"\n",
    "        )\n",
    "    }\n",
    "    user_msg = {\n",
    "        \"role\": \"user\",\n",
    "        \"content\": (\n",
    "            f\"The part is: {part}\\n\"\n",
    "            f\"The material is: {material}\\n\"\n",
    "            \"List the high-level manufacturing steps needed to machine this part.\"\n",
    "            \"For each step, include:\\n\"\n",
    "            \"- step: the step name\\n\"\n",
    "            \"- description: a short description of what happens in this step\\n\\n\"\n",
    "            \"Return ONLY a JSON array. No explanations, no markdown.\"\n",
    "        )\n",
    "    }\n",
    "\n",
    "    for attempt in range(1, max_retries + 1):\n",
    "        try:\n",
    "            raw = chat_completion(messages=[system_msg, user_msg], verbose=False)\n",
    "            return parse_llm_output(raw, OutlineStep)\n",
    "        except Exception as e:\n",
    "            print(f\"get_outline attempt {attempt} parsing failed: {e}\")\n",
    "            if attempt == max_retries:\n",
    "                return []\n",
    "            print(\"Retrying get_outline…\")\n",
    "    \n",
    "    \n",
    "def get_detail(outline: List[Dict[str, str]] | str,\n",
    "               part: str,\n",
    "               material: str,\n",
    "               max_retries: int = 3) -> List[Dict[str, Any]]:\n",
    "    \"\"\"\n",
    "    Enrich each step with tool, operation, rpm and feed.\n",
    "    Returns raw JSON string.\n",
    "    \"\"\"\n",
    "\n",
    "    # --- 1. Convert outline list to bullet list text -----------------\n",
    "    outline_text = (\n",
    "        \"\\n\".join(f\"- {s['step']}\" for s in outline if 'step' in s)\n",
    "        if isinstance(outline, list) else outline\n",
    "    )\n",
    "\n",
    "    # --- 2. Fetch material-specific limits --------------------------\n",
    "    limits =MATERIAL_DATA[material]\n",
    "    rpm_min, rpm_max = limits[\"rpm\"]\n",
    "    feed_min, feed_max = limits[\"feed\"]\n",
    "    if limits is None:\n",
    "        # fallback to a safe generic range\n",
    "        limits = {\"rpm\": (500, 5000), \"feed\": (100, 1000)}\n",
    "\n",
    "    material_constraints = (\n",
    "    f\"For **{material}**, spindle speed **must be {rpm_min}–{rpm_max} rpm**, \"\n",
    "    f\"and feed rate **must be {feed_min}–{feed_max} mm/min**. \"\n",
    "    \"Stay strictly within these ranges.\"\n",
    "    )\n",
    "\n",
    "    \n",
    "    # === 插入向量检索示例 ===\n",
    "    few_shot = fetch_examples(part, material, k=2)\n",
    "    combined_examples = []\n",
    "    for ex in few_shot:\n",
    "        combined_examples.extend(ex)\n",
    "        \n",
    "    example_block = json.dumps(combined_examples, ensure_ascii=False)\n",
    "        \n",
    "    # --- 3. Build messages list for chat_completion -----------------\n",
    "    system_msg = {\n",
    "        \"role\": \"system\",\n",
    "        \"content\": \"You are a CNC process planner.\"\n",
    "    }\n",
    "\n",
    "    user_msg = {\n",
    "        \"role\": \"user\",\n",
    "        \"content\": (\n",
    "            f\"The part is: {part}\\n\"\n",
    "            f\"The material is: {material}\\n\"\n",
    "            \"Here are similar part examples (JSON):\\n\"\n",
    "            f\"{example_block}\\n\"\n",
    "            f\"Here is the outline of steps:\\n{outline_text}\\n\\n\"\n",
    "            \"For EACH step output an object with: step, tool, operation, rpm, feed.\\n\"\n",
    "            f\"{material_constraints}\\n\"\n",
    "            \"For non-machining steps (e.g. setup, inspection) set rpm=0 and feed=0.\\n\\n\"\n",
    "            \"Each item must have keys 'step', 'tool', 'operation', 'rpm', 'feed'.\\n\\n\"\n",
    "            \"Return ONLY a JSON array. No explanations. No markdown.\"\n",
    "        )\n",
    "    }\n",
    "\n",
    "    for attempt in range(1, max_retries + 1):\n",
    "        try:\n",
    "            raw = chat_completion(messages=[system_msg, user_msg], verbose=False)\n",
    "            return parse_llm_output(raw, DetailStep)\n",
    "        except Exception as e:\n",
    "            print(f\"get_detail attempt {attempt} parsing failed: {e}\")\n",
    "            if attempt == max_retries:\n",
    "                return []\n",
    "            print(\"Retrying get_detail…\")\n"
   ]
  },
  {
   "cell_type": "code",
   "execution_count": 5,
   "metadata": {},
   "outputs": [],
   "source": [
    "def display_plan_table(df):\n",
    "    def highlight_invalid(v):\n",
    "        return \"background-color:#FFD2D2\" if v is False else \"\"\n",
    "    styled = df.style.map(highlight_invalid, subset=[\"RPM Valid\",\"Feed Valid\",\"Power Valid\"])\n",
    "    \n",
    "    display(Markdown(\"### CNC Process Plan\"))\n",
    "    display(styled)\n"
   ]
  },
  {
   "cell_type": "code",
   "execution_count": 6,
   "metadata": {},
   "outputs": [],
   "source": [
    "# === 工艺总结 ===\n",
    "def reflect_summary(raw_json: str, validated_df: pd.DataFrame, material: str):\n",
    "    num_steps = len(validated_df)\n",
    "    num_invalid_rpm   = (~validated_df[\"RPM Valid\"]).sum()\n",
    "    num_invalid_feed  = (~validated_df[\"Feed Valid\"]).sum()\n",
    "    num_invalid_power = (~validated_df[\"Power Valid\"]).sum()\n",
    "\n",
    "    comment = (\n",
    "        \"### Reflection Summary\\n\"\n",
    "        f\"- **Total Steps Generated**: {num_steps}\\n\"\n",
    "        f\"- **Invalid Spindle Speeds**: {num_invalid_rpm} step(s)\\n\"\n",
    "        f\"- **Invalid Feed Rates**: {num_invalid_feed} step(s)\\n\"\n",
    "        f\"- **Invalid Power**        : {num_invalid_power}\\n\"\n",
    "        f\"- **Power limit for {material}**: \"\n",
    "        f\"{MATERIAL_DATA.get(material, {}).get('power', 5.0):.1f} kW\\n\"\n",
    "        \n",
    "    )\n",
    "\n",
    "    latest = max((p for p in os.listdir() if p.startswith(\"plan_\")), default=None)\n",
    "    if latest:\n",
    "        comment += f\"- **Exported file**        : `{latest}`\\n\"\n",
    "\n",
    "    \n",
    "    if num_invalid_rpm or num_invalid_feed or num_invalid_power:\n",
    "        comment += \"- ** Human Oversight Needed**:\\n\"\n",
    "        if num_invalid_rpm:\n",
    "            comment += \"  - Some spindle speeds out of range.\\n\"\n",
    "        if num_invalid_feed:\n",
    "            comment += \"  - Some feed rates out of range.\\n\"\n",
    "        if num_invalid_power:\n",
    "            comment += \"  - Some power values exceed machine limit (possible overload).\\n\"\n",
    "    else:\n",
    "        comment += \"- All parameters are within expected machining constraints.\\n\"\n",
    "\n",
    "    # 统计 token\n",
    "    comment += f\"- **Tokens used so far**: {llm_utils.TOKENS_USED}\\n\"\n",
    "\n",
    "    display(Markdown(comment))\n"
   ]
  },
  {
   "cell_type": "code",
   "execution_count": 7,
   "metadata": {},
   "outputs": [],
   "source": [
    "# === 4. 按钮点击逻辑 ===\n",
    "def on_generate_clicked(b): \n",
    "    global df_full_valid, df_cut_valid\n",
    "    with output_area:\n",
    "        output_area.clear_output()\n",
    "\n",
    "        part = desc_input.value.strip()\n",
    "        material = material_selector.value\n",
    "\n",
    "        if not part:\n",
    "            print(\"Please enter the part description.\")\n",
    "            return\n",
    "\n",
    "        # --- ① 先取高阶大纲 ---------------------------------\n",
    "        outline = get_outline(part, material)\n",
    "        if not outline:\n",
    "            print(\"Failed to retrieve outline. Please check your network connection or API key.\")\n",
    "            return\n",
    "\n",
    "        # --- ② 再根据大纲生成带参数的完整 JSON ---------------\n",
    "        raw_json = get_detail(outline, part, material)\n",
    "\n",
    "        # --- ③ 解析 LLM JSON → DataFrame -------------------\n",
    "        df_full = pd.DataFrame(raw_json).reset_index(drop=True)\n",
    "        df_full.rename(columns={\n",
    "            \"rpm\":  \"Spindle Speed (RPM)\",\n",
    "            \"feed\": \"Feed Rate (mm/min)\"\n",
    "        }, inplace=True)\n",
    "        \n",
    "        if df_full.empty:\n",
    "            print(\"JSON parsing failed, raw output:\\n\", raw_json)\n",
    "            return\n",
    "\n",
    "        # --- ④ 全流程校验并展示 ------------------------------\n",
    "        df_full_valid = validate_plan(df_full, material)\n",
    "        df_full_valid = add_power_check(df_full_valid, material)\n",
    "        \n",
    "        display(Markdown(\"### Full Process Plan (incl. non-machining)\"))\n",
    "        display_plan_table(df_full_valid)\n",
    "        \n",
    "        \n",
    "        display(Markdown(\"---\"))\n",
    "        \n",
    "        # --- ⑤ 过滤仅含切削参数的步骤 -------------------------\n",
    "        df_cut = df_full[\n",
    "            df_full[\"Spindle Speed (RPM)\"].gt(0) &\n",
    "            df_full[\"Feed Rate (mm/min)\"].gt(0)\n",
    "        ].reset_index(drop=True)\n",
    "\n",
    "        df_cut_valid = validate_plan(df_cut, material)\n",
    "        df_cut_valid = add_power_check(df_cut_valid, material)\n",
    "\n",
    "        display(Markdown(\"### Machining-only Plan\"))\n",
    "        display_plan_table(df_cut_valid)\n",
    "        \n",
    "\n",
    "        # --- ⑥ 反思摘要（基于完整流程） -----------------------\n",
    "        reflect_summary(raw_json, df_full_valid, material)\n",
    "       \n",
    "        "
   ]
  },
  {
   "cell_type": "code",
   "execution_count": 8,
   "metadata": {},
   "outputs": [
    {
     "data": {
      "text/markdown": [
       "## CNC Process Planner"
      ],
      "text/plain": [
       "<IPython.core.display.Markdown object>"
      ]
     },
     "metadata": {},
     "output_type": "display_data"
    },
    {
     "data": {
      "application/vnd.jupyter.widget-view+json": {
       "model_id": "beb60be7b48147a1989ccfe8652e205c",
       "version_major": 2,
       "version_minor": 0
      },
      "text/plain": [
       "Textarea(value='An aluminum gear with 20 teeth and a central bore.', description='Part:', layout=Layout(height…"
      ]
     },
     "metadata": {},
     "output_type": "display_data"
    },
    {
     "data": {
      "application/vnd.jupyter.widget-view+json": {
       "model_id": "961e2d236f524c55b2fd838b341bf50a",
       "version_major": 2,
       "version_minor": 0
      },
      "text/plain": [
       "Dropdown(description='Material:', layout=Layout(width='30%'), options=('aluminum', 'steel', 'brass', 'titanium…"
      ]
     },
     "metadata": {},
     "output_type": "display_data"
    },
    {
     "data": {
      "application/vnd.jupyter.widget-view+json": {
       "model_id": "e70beb7baf0e482bade113638c2f10a9",
       "version_major": 2,
       "version_minor": 0
      },
      "text/plain": [
       "Button(button_style='success', description=' Generate CNC Plan', layout=Layout(margin='10px 0', width='30%'), …"
      ]
     },
     "metadata": {},
     "output_type": "display_data"
    },
    {
     "data": {
      "application/vnd.jupyter.widget-view+json": {
       "model_id": "aa29c3e4f00f40a4ac28469f7f6c9e46",
       "version_major": 2,
       "version_minor": 0
      },
      "text/plain": [
       "Button(description='Export CSV', icon='download', layout=Layout(margin='5px 0 15px 0', width='30%'), style=But…"
      ]
     },
     "metadata": {},
     "output_type": "display_data"
    },
    {
     "data": {
      "application/vnd.jupyter.widget-view+json": {
       "model_id": "5b0625ecc7194f45808f6a03a9ea6cdd",
       "version_major": 2,
       "version_minor": 0
      },
      "text/plain": [
       "Output()"
      ]
     },
     "metadata": {},
     "output_type": "display_data"
    }
   ],
   "source": [
    "\n",
    "# === 5. 按钮事件绑定 ===\n",
    "generate_button.on_click(on_generate_clicked)\n",
    "\n",
    "# === 6. 显示UI（必须放最后） ===\n",
    "output_area = widgets.Output()\n",
    "display(\n",
    "    Markdown(\"## CNC Process Planner\"),\n",
    "    desc_input,\n",
    "    material_selector,\n",
    "    generate_button,\n",
    "    export_btn, \n",
    "    output_area\n",
    ")  \n"
   ]
  }
 ],
 "metadata": {
  "kernelspec": {
   "display_name": "Python 3",
   "language": "python",
   "name": "python3"
  },
  "language_info": {
   "codemirror_mode": {
    "name": "ipython",
    "version": 3
   },
   "file_extension": ".py",
   "mimetype": "text/x-python",
   "name": "python",
   "nbconvert_exporter": "python",
   "pygments_lexer": "ipython3",
   "version": "3.12.0"
  }
 },
 "nbformat": 4,
 "nbformat_minor": 2
}
